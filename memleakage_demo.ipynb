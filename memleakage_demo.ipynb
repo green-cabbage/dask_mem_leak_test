{
 "cells": [
  {
   "cell_type": "markdown",
   "id": "4169bc5f-e25a-4f9e-887f-2f6e6a141ed4",
   "metadata": {},
   "source": [
    "This is a quick demo of observed memory leakage in coffea "
   ]
  },
  {
   "cell_type": "code",
   "execution_count": 1,
   "id": "2d7d3c3f-86ab-4fa4-9c6d-5664bf32029f",
   "metadata": {},
   "outputs": [
    {
     "name": "stdout",
     "output_type": "stream",
     "text": [
      "coffea verion: 2024.3.0\n",
      "distributed verion: 2024.3.0\n"
     ]
    }
   ],
   "source": [
    "import coffea\n",
    "print(f\"coffea verion: {coffea.__version__}\")\n",
    "import distributed\n",
    "print(f\"distributed verion: {distributed.__version__}\")"
   ]
  },
  {
   "cell_type": "code",
   "execution_count": 2,
   "id": "4877da02-6cc2-425e-a4f8-aa520f494526",
   "metadata": {},
   "outputs": [],
   "source": [
    "import numpy as np\n",
    "import awkward as ak\n",
    "import dask_awkward as dak\n",
    "from coffea.nanoevents import NanoEventsFactory, NanoAODSchema\n",
    "from distributed import Client, performance_report\n",
    "import json \n",
    "import glob\n",
    "import os\n",
    "import tqdm\n",
    "import time\n",
    "from itertools import islice\n",
    "import copy\n",
    "import dask\n",
    "from coffea.dataset_tools import (\n",
    "    max_chunks\n",
    ")\n",
    "\n",
    "def divide_chunks(data: dict, SIZE: int):\n",
    "    \"\"\"\n",
    "    This takes a big sample of a dataset consisting of multiple root files and divides them to smaller sets of root files.\n",
    "    Similar to coffea.dataset_tools maxfile function, but not exactly the same \n",
    "    \"\"\"\n",
    "    it = iter(data)\n",
    "    for i in range(0, len(data), SIZE):\n",
    "      yield {k:data[k] for k in islice(it, SIZE)}"
   ]
  },
  {
   "cell_type": "markdown",
   "id": "d9f7adef-5197-411e-a968-1d8a1f8ef062",
   "metadata": {},
   "source": [
    "If do_regular_restart == False, we get observe memory leak, as recorded in withOutRestart_output.log\n",
    "If do_regular_restart == True, the operation continues, as recorded in withRestart_output.log (manually canceled in the middle of the script, since it went way past compared to when do_regular_restart == False)"
   ]
  },
  {
   "cell_type": "code",
   "execution_count": null,
   "id": "9e86fcab-862c-4d5f-9306-14c3a86630ea",
   "metadata": {
    "scrolled": true
   },
   "outputs": [],
   "source": [
    "do_regular_restart = True\n",
    "client = Client(n_workers=1,  threads_per_worker=1, processes=True, memory_limit='0.7 GiB')\n",
    "sample_path = \"./input_file.json\"\n",
    "with open(sample_path) as file:\n",
    "    samples = json.loads(file.read())\n",
    "samples  = max_chunks(samples, 20)\n",
    "dataset = list(samples.keys())[0]\n",
    "sample = list(samples.values())[0]\n",
    "with performance_report(filename=\"dask-report.html\"): # Sadly, the dask performance report doesn't record memory usage beyond the first minute, so it not very useful for recording memory leakage.\n",
    "    max_file_len = 1\n",
    "    smaller_files = list(divide_chunks(sample[\"files\"], max_file_len))\n",
    "    for idx in tqdm.tqdm(range(len(smaller_files)), leave=False):\n",
    "        smaller_sample = copy.deepcopy(sample)\n",
    "        smaller_sample[\"files\"] = smaller_files[idx]\n",
    "        # print(f\"smaller_sample: {smaller_sample}\")\n",
    "        events = NanoEventsFactory.from_root(\n",
    "            smaller_sample[\"files\"],\n",
    "            schemaclass=NanoAODSchema,\n",
    "            metadata= smaller_sample[\"metadata\"],\n",
    "        ).events()\n",
    "        nmuons = ak.num(events.Muon, axis=1)\n",
    "        muon_selection = (\n",
    "            events.Muon.pt > 20 &\n",
    "            nmuons == 2\n",
    "        )\n",
    "        muons = events.Muon[muon_selection]\n",
    "        dask.compute(muons.pt)\n",
    "        if do_regular_restart:\n",
    "            client.restart(timeout=10, wait_for_workers=False)"
   ]
  },
  {
   "cell_type": "code",
   "execution_count": null,
   "id": "e722b93d-d68f-486c-b73a-e8474df4541d",
   "metadata": {},
   "outputs": [],
   "source": []
  }
 ],
 "metadata": {
  "kernelspec": {
   "display_name": "Python [conda env:coffea2024]",
   "language": "python",
   "name": "conda-env-coffea2024-py"
  },
  "language_info": {
   "codemirror_mode": {
    "name": "ipython",
    "version": 3
   },
   "file_extension": ".py",
   "mimetype": "text/x-python",
   "name": "python",
   "nbconvert_exporter": "python",
   "pygments_lexer": "ipython3",
   "version": "3.10.13"
  }
 },
 "nbformat": 4,
 "nbformat_minor": 5
}
