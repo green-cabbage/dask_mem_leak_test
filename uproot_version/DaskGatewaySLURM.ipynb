{
 "cells": [
  {
   "cell_type": "code",
   "execution_count": 1,
   "id": "275494e4-3a0f-4d26-aafe-8abd771df5b4",
   "metadata": {},
   "outputs": [],
   "source": [
    "from dask_gateway import Gateway\n",
    "# gateway = Gateway()\n",
    "gateway = Gateway(\n",
    "    \"http://dask-gateway-k8s.geddes.rcac.purdue.edu/\",\n",
    "    proxy_address=\"traefik-dask-gateway-k8s.cms.geddes.rcac.purdue.edu:8786\",\n",
    ")"
   ]
  },
  {
   "cell_type": "code",
   "execution_count": 2,
   "id": "c1a51702-2fab-4bd6-a4f0-22cf289d5948",
   "metadata": {
    "editable": true,
    "slideshow": {
     "slide_type": ""
    },
    "tags": []
   },
   "outputs": [
    {
     "data": {
      "application/vnd.jupyter.widget-view+json": {
       "model_id": "81f879fd868f4291b68d6bf2d70c42ee",
       "version_major": 2,
       "version_minor": 0
      },
      "text/plain": [
       "VBox(children=(HTML(value='<h2>GatewayCluster</h2>'), HBox(children=(HTML(value='\\n<div>\\n<style scoped>\\n    …"
      ]
     },
     "metadata": {},
     "output_type": "display_data"
    }
   ],
   "source": [
    "cluster = gateway.new_cluster(\n",
    "    conda_env = \"/depot/cms/kernels/coffea2024\",\n",
    "    # queue = \"cms\",\n",
    "    worker_cores = 1,\n",
    "    # worker_threads=1,\n",
    "    # worker_memory = 12,\n",
    "    worker_memory = 1,\n",
    "    # nthreads=1,\n",
    "    \n",
    "    env = {\n",
    "        \"WORKDIR\": \"/depot/cms/private/users/yun79/valerie/fork/dask_mem_leak_test/uproot_version\",\n",
    "        \"X509_USER_PROXY\": \"/depot/cms/users/yun79/x509up_u383571\"\n",
    "    },\n",
    "    # cluster_start_timeout = 21600,\n",
    ")\n",
    "# cluster.adapt(minimum=4) # or do .adapt\n",
    "# cluster.adapt(minimum=40, maximum=100) # or do .adapt\n",
    "cluster.scale(1) \n",
    "cluster"
   ]
  },
  {
   "cell_type": "code",
   "execution_count": 3,
   "id": "7509afd5-e613-4dad-99f0-ebcda0453090",
   "metadata": {},
   "outputs": [],
   "source": [
    "\"\"\"\n",
    "To shutdown the cluster, run this cell\n",
    "Equivalently, you can also do \"squeue -u <username>\" \n",
    "if this is the only slurm job you're doing\n",
    "\"\"\"\n",
    "\n",
    "for cluster_info in gateway.list_clusters():\n",
    "    gateway.connect(cluster_info.name).shutdown()"
   ]
  },
  {
   "cell_type": "code",
   "execution_count": 13,
   "id": "7824bd5c-1ad4-4075-b802-9691e0bd9040",
   "metadata": {},
   "outputs": [
    {
     "ename": "AttributeError",
     "evalue": "'GatewayCluster' object has no attribute 'cluster_options'",
     "output_type": "error",
     "traceback": [
      "\u001b[0;31m---------------------------------------------------------------------------\u001b[0m",
      "\u001b[0;31mAttributeError\u001b[0m                            Traceback (most recent call last)",
      "Cell \u001b[0;32mIn[13], line 1\u001b[0m\n\u001b[0;32m----> 1\u001b[0m \u001b[43mcluster\u001b[49m\u001b[38;5;241;43m.\u001b[39;49m\u001b[43mcluster_options\u001b[49m()\n",
      "\u001b[0;31mAttributeError\u001b[0m: 'GatewayCluster' object has no attribute 'cluster_options'"
     ]
    }
   ],
   "source": [
    "cluster.cluster_options()"
   ]
  },
  {
   "cell_type": "code",
   "execution_count": 14,
   "id": "61b1a67a-53d2-4837-b5c4-2fd124dd128f",
   "metadata": {},
   "outputs": [],
   "source": [
    "options = gateway.cluster_options()  "
   ]
  },
  {
   "cell_type": "code",
   "execution_count": 16,
   "id": "add5c117-7590-4546-8fe6-239cab13dd36",
   "metadata": {},
   "outputs": [
    {
     "ename": "AttributeError",
     "evalue": "No option 'fields' available",
     "output_type": "error",
     "traceback": [
      "\u001b[0;31m---------------------------------------------------------------------------\u001b[0m",
      "\u001b[0;31mAttributeError\u001b[0m                            Traceback (most recent call last)",
      "Cell \u001b[0;32mIn[16], line 2\u001b[0m\n\u001b[1;32m      1\u001b[0m \u001b[38;5;66;03m# options.worker_cores\u001b[39;00m\n\u001b[0;32m----> 2\u001b[0m \u001b[43moptions\u001b[49m\u001b[38;5;241;43m.\u001b[39;49m\u001b[43mfields\u001b[49m\n",
      "File \u001b[0;32m/depot/cms/kernels/coffea2024/lib/python3.10/site-packages/dask_gateway/options.py:110\u001b[0m, in \u001b[0;36mOptions.__getattr__\u001b[0;34m(self, key)\u001b[0m\n\u001b[1;32m    109\u001b[0m \u001b[38;5;28;01mdef\u001b[39;00m \u001b[38;5;21m__getattr__\u001b[39m(\u001b[38;5;28mself\u001b[39m, key):\n\u001b[0;32m--> 110\u001b[0m     \u001b[38;5;28;01mreturn\u001b[39;00m \u001b[38;5;28;43mself\u001b[39;49m\u001b[38;5;241;43m.\u001b[39;49m\u001b[43m_get\u001b[49m\u001b[43m(\u001b[49m\u001b[43mkey\u001b[49m\u001b[43m,\u001b[49m\u001b[43m \u001b[49m\u001b[38;5;167;43;01mAttributeError\u001b[39;49;00m\u001b[43m)\u001b[49m\n",
      "File \u001b[0;32m/depot/cms/kernels/coffea2024/lib/python3.10/site-packages/dask_gateway/options.py:101\u001b[0m, in \u001b[0;36mOptions._get\u001b[0;34m(self, key, exc_cls)\u001b[0m\n\u001b[1;32m     99\u001b[0m     \u001b[38;5;28;01mreturn\u001b[39;00m \u001b[38;5;28mself\u001b[39m\u001b[38;5;241m.\u001b[39m_fields[key]\u001b[38;5;241m.\u001b[39mget()\n\u001b[1;32m    100\u001b[0m \u001b[38;5;28;01mexcept\u001b[39;00m \u001b[38;5;167;01mKeyError\u001b[39;00m:\n\u001b[0;32m--> 101\u001b[0m     \u001b[38;5;28;01mraise\u001b[39;00m exc_cls(\u001b[38;5;124m\"\u001b[39m\u001b[38;5;124mNo option \u001b[39m\u001b[38;5;132;01m%r\u001b[39;00m\u001b[38;5;124m available\u001b[39m\u001b[38;5;124m\"\u001b[39m \u001b[38;5;241m%\u001b[39m key) \u001b[38;5;28;01mfrom\u001b[39;00m \u001b[38;5;28;01mNone\u001b[39;00m\n",
      "\u001b[0;31mAttributeError\u001b[0m: No option 'fields' available"
     ]
    }
   ],
   "source": [
    "# options.worker_cores\n",
    "options.fields"
   ]
  },
  {
   "cell_type": "code",
   "execution_count": 4,
   "id": "e627d976-e8ae-4d2f-974a-757ea14acf87",
   "metadata": {},
   "outputs": [
    {
     "name": "stdout",
     "output_type": "stream",
     "text": [
      "             JOBID PARTITION     NAME     USER ST       TIME  NODES NODELIST(REASON)\n"
     ]
    }
   ],
   "source": [
    "! squeue -u yun79"
   ]
  },
  {
   "cell_type": "code",
   "execution_count": null,
   "id": "3d015374-9431-4718-9eb3-a37a00bb367f",
   "metadata": {},
   "outputs": [],
   "source": []
  }
 ],
 "metadata": {
  "kernelspec": {
   "display_name": "Python [conda env:coffea2024]",
   "language": "python",
   "name": "conda-env-coffea2024-py"
  },
  "language_info": {
   "codemirror_mode": {
    "name": "ipython",
    "version": 3
   },
   "file_extension": ".py",
   "mimetype": "text/x-python",
   "name": "python",
   "nbconvert_exporter": "python",
   "pygments_lexer": "ipython3",
   "version": "3.10.13"
  }
 },
 "nbformat": 4,
 "nbformat_minor": 5
}
