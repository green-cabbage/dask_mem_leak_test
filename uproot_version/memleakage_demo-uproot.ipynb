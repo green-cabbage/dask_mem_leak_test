{
 "cells": [
  {
   "cell_type": "markdown",
   "id": "4169bc5f-e25a-4f9e-887f-2f6e6a141ed4",
   "metadata": {},
   "source": [
    "This is a quick demo of observed memory leakage in uproot with dask distributed "
   ]
  },
  {
   "cell_type": "code",
   "execution_count": 1,
   "id": "2d7d3c3f-86ab-4fa4-9c6d-5664bf32029f",
   "metadata": {},
   "outputs": [
    {
     "name": "stdout",
     "output_type": "stream",
     "text": [
      "uproot verion: 5.3.1\n",
      "distributed verion: 2024.3.0\n"
     ]
    }
   ],
   "source": [
    "import uproot\n",
    "print(f\"uproot verion: {uproot.__version__}\")\n",
    "import distributed\n",
    "print(f\"distributed verion: {distributed.__version__}\")"
   ]
  },
  {
   "cell_type": "code",
   "execution_count": 2,
   "id": "4877da02-6cc2-425e-a4f8-aa520f494526",
   "metadata": {},
   "outputs": [],
   "source": [
    "import numpy as np\n",
    "import awkward as ak\n",
    "import dask_awkward as dak\n",
    "# from coffea.nanoevents import NanoEventsFactory, NanoAODSchema\n",
    "from distributed import Client, performance_report\n",
    "import json \n",
    "import glob\n",
    "import os\n",
    "import tqdm\n",
    "import time\n",
    "from itertools import islice\n",
    "import copy\n",
    "import dask\n",
    "from coffea.dataset_tools import (\n",
    "    max_chunks\n",
    ")\n",
    "\n",
    "def divide_chunks(data: dict, SIZE: int):\n",
    "    \"\"\"\n",
    "    This takes a big sample of a dataset consisting of multiple root files and divides them to smaller sets of root files.\n",
    "    Similar to coffea.dataset_tools maxfile function, but not exactly the same \n",
    "    \"\"\"\n",
    "    it = iter(data)\n",
    "    for i in range(0, len(data), SIZE):\n",
    "      yield {k:data[k] for k in islice(it, SIZE)}"
   ]
  },
  {
   "cell_type": "raw",
   "id": "21516646-de4c-4bc0-8aa0-b0a14d54b071",
   "metadata": {},
   "source": [
    "If do_regular_restart == False, we get observe memory leak, as recorded in \"./withOutRestart_uproot.log\"\n",
    "If do_regular_restart == True, the operation continues, but it often gets stuck with no errors. I wrote a slg"
   ]
  },
  {
   "cell_type": "code",
   "execution_count": null,
   "id": "9e86fcab-862c-4d5f-9306-14c3a86630ea",
   "metadata": {
    "scrolled": true
   },
   "outputs": [],
   "source": [
    "do_regular_restart = True\n",
    "client = Client(n_workers=1,  threads_per_worker=1, processes=True, memory_limit='0.7 GiB')\n",
    "sample_path = \"./input_file.json\"\n",
    "with open(sample_path) as file:\n",
    "    samples = json.loads(file.read())\n",
    "samples  = max_chunks(samples, 20)\n",
    "dataset = list(samples.keys())[0]\n",
    "sample = list(samples.values())[0]\n",
    "with performance_report(filename=\"dask-report.html\"): # Sadly, the dask performance report doesn't record memory usage beyond the first minute, so it not very useful for recording memory leakage.\n",
    "    max_file_len = 1\n",
    "    smaller_files = list(divide_chunks(sample[\"files\"], max_file_len))\n",
    "    for idx in tqdm.tqdm(range(len(smaller_files)), leave=False):\n",
    "        smaller_sample = copy.deepcopy(sample)\n",
    "        smaller_sample[\"files\"] = smaller_files[idx]\n",
    "        fnames = list(smaller_sample[\"files\"].keys())\n",
    "        input = {fname: \"Events\" for fname in fnames}\n",
    "        events = uproot.dask(input)\n",
    "        muons_pt = events[\"Muon_pt\"]\n",
    "        nmuons = ak.num(muons_pt, axis=1)\n",
    "        muon_selection = (\n",
    "            muons_pt > 20 &\n",
    "            nmuons == 2\n",
    "        )\n",
    "        muons_pt = muons_pt[muon_selection]\n",
    "        dask.compute(muons_pt)\n",
    "        if do_regular_restart:\n",
    "            client.restart(wait_for_workers=False)"
   ]
  },
  {
   "cell_type": "markdown",
   "id": "badc3e22-783f-4cb1-a16b-173a9d57c70f",
   "metadata": {},
   "source": [
    "I personally experienced the script above getting stuck with when do_regular_restart == True, So I found a different way to restart the dask client in every loop (code below). This method successfully completed its run, which is saved in \"./withRestart_uproot.log\""
   ]
  },
  {
   "cell_type": "code",
   "execution_count": null,
   "id": "466fadd3-d2a3-4e32-8b4b-0654b25f37f4",
   "metadata": {},
   "outputs": [],
   "source": [
    "sample_path = \"./input_file.json\"\n",
    "with open(sample_path) as file:\n",
    "    samples = json.loads(file.read())\n",
    "samples  = max_chunks(samples, 20)\n",
    "dataset = list(samples.keys())[0]\n",
    "sample = list(samples.values())[0]\n",
    "# with performance_report(filename=\"dask-report.html\"): # Sadly, the dask performance report doesn't record memory usage beyond the first minute, so it not very useful for recording memory leakage.\n",
    "max_file_len = 1\n",
    "smaller_files = list(divide_chunks(sample[\"files\"], max_file_len))\n",
    "for idx in tqdm.tqdm(range(len(smaller_files)), leave=False):\n",
    "    with Client(n_workers=1,  threads_per_worker=1, processes=True, memory_limit='0.7 GiB') as client:\n",
    "        smaller_sample = copy.deepcopy(sample)\n",
    "        smaller_sample[\"files\"] = smaller_files[idx]\n",
    "        fnames = list(smaller_sample[\"files\"].keys())\n",
    "        input = {fname: \"Events\" for fname in fnames}\n",
    "        events = uproot.dask(input)\n",
    "        muons_pt = events[\"Muon_pt\"]\n",
    "        nmuons = ak.num(muons_pt, axis=1)\n",
    "        muon_selection = (\n",
    "            muons_pt > 20 &\n",
    "            nmuons == 2\n",
    "        )\n",
    "        muons_pt = muons_pt[muon_selection]\n",
    "        dask.compute(muons_pt)"
   ]
  }
 ],
 "metadata": {
  "kernelspec": {
   "display_name": "Python [conda env:coffea2024]",
   "language": "python",
   "name": "conda-env-coffea2024-py"
  },
  "language_info": {
   "codemirror_mode": {
    "name": "ipython",
    "version": 3
   },
   "file_extension": ".py",
   "mimetype": "text/x-python",
   "name": "python",
   "nbconvert_exporter": "python",
   "pygments_lexer": "ipython3",
   "version": "3.10.13"
  }
 },
 "nbformat": 4,
 "nbformat_minor": 5
}
